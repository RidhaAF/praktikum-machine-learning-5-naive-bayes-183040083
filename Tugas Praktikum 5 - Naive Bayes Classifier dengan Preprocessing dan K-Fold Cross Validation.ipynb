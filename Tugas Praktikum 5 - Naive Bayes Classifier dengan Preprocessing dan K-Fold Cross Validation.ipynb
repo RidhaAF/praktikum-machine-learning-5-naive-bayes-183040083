{
 "cells": [
  {
   "cell_type": "markdown",
   "metadata": {},
   "source": [
    "# Tugas Praktikum 5"
   ]
  },
  {
   "cell_type": "markdown",
   "metadata": {},
   "source": [
    "# Naive Bayes Classifier dengan Preprocessing (Variance Threshold & Mutual Information) dan K-Fold Cross Validation"
   ]
  },
  {
   "cell_type": "markdown",
   "metadata": {},
   "source": [
    "Ambil satu dataset dari pilihan berikut di sklearn:\n",
    "\n",
    "1. Boston house prices dataset\n",
    "2. Iris plants dataset\n",
    "3. Diabetes dataset\n",
    "4. Wine recognition dataset\n",
    "5. Breast cancer wisconsin (diagnostic) dataset\n",
    "\n",
    "Dataset bisa diakses melalui tautan berikut.\n",
    " __[scikit-learn.org/stable/datasets.html](https://scikit-learn.org/stable/datasets.html)__\n",
    " \n"
   ]
  },
  {
   "cell_type": "markdown",
   "metadata": {},
   "source": [
    "Panduan untuk mengakses dataset bisa dilihat kembali di Praktikum 2 - Dataset dan Pandas"
   ]
  },
  {
   "cell_type": "markdown",
   "metadata": {},
   "source": [
    "Ulang langkah-langkah yang dilakukan di Praktikum 5 - Naive Bayes Classifier sesuai dengan fitur di dataset terkait (transform dengan one-hot encoding fitur-fitur ordinal,lakukan variance thresholding, juga filter dengan mutual information). Lakukan preprocessing lain jika perlu.\n",
    "\n",
    "Bandingkan hasil performa model (dengan dan tanpa k-fold cross validation) antara nilai X dari variance thresholding dan X dari mutual information filter."
   ]
  }
 ],
 "metadata": {
  "kernelspec": {
   "display_name": "Python 3",
   "language": "python",
   "name": "python3"
  },
  "language_info": {
   "codemirror_mode": {
    "name": "ipython",
    "version": 3
   },
   "file_extension": ".py",
   "mimetype": "text/x-python",
   "name": "python",
   "nbconvert_exporter": "python",
   "pygments_lexer": "ipython3",
   "version": "3.8.3"
  }
 },
 "nbformat": 4,
 "nbformat_minor": 4
}
